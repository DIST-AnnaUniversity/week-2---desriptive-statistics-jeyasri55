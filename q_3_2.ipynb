{
  "nbformat": 4,
  "nbformat_minor": 0,
  "metadata": {
    "colab": {
      "provenance": []
    },
    "kernelspec": {
      "name": "python3",
      "display_name": "Python 3"
    },
    "language_info": {
      "name": "python"
    }
  },
  "cells": [
    {
      "cell_type": "code",
      "source": [
        "import pandas as pd\n",
        "import io\n",
        "df = pd.read_csv('Daily_Rainfall_data_from_National_Remote_Sensing_Centre_Agency_during_October_2022.csv')\n",
        "df1=df.tail(35)\n",
        "df2=df1.dropna()\n",
        "final = pd.DataFrame(df2.Avg_rainfall)\n",
        "print(final)\n",
        "final.boxplot(figsize=(5,5),fontsize='8',grid=False)"
      ],
      "metadata": {
        "colab": {
          "base_uri": "https://localhost:8080/",
          "height": 840
        },
        "id": "5K2aDEk9KhfM",
        "outputId": "fc6f3272-2012-42a0-96a4-2010198fbf98"
      },
      "execution_count": 2,
      "outputs": [
        {
          "output_type": "stream",
          "name": "stdout",
          "text": [
            "       Avg_rainfall\n",
            "19024      0.004033\n",
            "19026      0.000151\n",
            "19028      0.075893\n",
            "19029      2.124929\n",
            "19030      8.068375\n",
            "19032     11.689524\n",
            "19033     10.815236\n",
            "19034     11.660267\n",
            "19035     11.481102\n",
            "19036      9.390205\n",
            "19037      5.502119\n",
            "19038      0.474305\n",
            "19039      1.419904\n",
            "19041      0.070861\n",
            "19042      0.002213\n",
            "19043     24.423169\n",
            "19044      9.739172\n",
            "19045      7.312805\n",
            "19046      3.123500\n",
            "19047      0.334683\n",
            "19048      0.023277\n",
            "19049      0.000003\n",
            "19050      0.234520\n",
            "19051      0.001928\n",
            "19052      0.001192\n",
            "19054      0.019834\n",
            "19055      0.364070\n",
            "19056      0.604070\n"
          ]
        },
        {
          "output_type": "execute_result",
          "data": {
            "text/plain": [
              "<matplotlib.axes._subplots.AxesSubplot at 0x7f5bd7761fd0>"
            ]
          },
          "metadata": {},
          "execution_count": 2
        },
        {
          "output_type": "display_data",
          "data": {
            "text/plain": [
              "<Figure size 360x360 with 1 Axes>"
            ],
            "image/png": "[encoded data removed]"
          },
          "metadata": {
            "needs_background": "light"
          }
        }
      ]
    }
  ]
}