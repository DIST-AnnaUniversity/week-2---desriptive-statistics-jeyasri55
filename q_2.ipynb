{
  "nbformat": 4,
  "nbformat_minor": 0,
  "metadata": {
    "colab": {
      "provenance": [],
      "collapsed_sections": []
    },
    "kernelspec": {
      "name": "python3",
      "display_name": "Python 3"
    },
    "language_info": {
      "name": "python"
    }
  },
  "cells": [
    {
      "cell_type": "code",
      "source": [
        "import sys\n",
        "!{sys.executable} -m pip install stemgraphic"
      ],
      "metadata": {
        "colab": {
          "base_uri": "https://localhost:8080/"
        },
        "id": "N9CtCOS_J5c-",
        "outputId": "8b3a5cef-e69e-43dc-e6a3-1b95e0466599"
      },
      "execution_count": null,
      "outputs": [
        {
          "output_type": "stream",
          "name": "stdout",
          "text": [
            "Looking in indexes: https://pypi.org/simple, https://us-python.pkg.dev/colab-wheels/public/simple/\n",
            "Collecting stemgraphic\n",
            "  Downloading stemgraphic-0.9.1-py3-none-any.whl (61 kB)\n",
            "\u001b[K     |████████████████████████████████| 61 kB 493 kB/s \n",
            "\u001b[?25hCollecting docopt\n",
            "  Downloading docopt-0.6.2.tar.gz (25 kB)\n",
            "Requirement already satisfied: seaborn in /usr/local/lib/python3.7/dist-packages (from stemgraphic) (0.11.2)\n",
            "Requirement already satisfied: pandas in /usr/local/lib/python3.7/dist-packages (from stemgraphic) (1.3.5)\n",
            "Requirement already satisfied: matplotlib in /usr/local/lib/python3.7/dist-packages (from stemgraphic) (3.2.2)\n",
            "Requirement already satisfied: python-dateutil>=2.1 in /usr/local/lib/python3.7/dist-packages (from matplotlib->stemgraphic) (2.8.2)\n",
            "Requirement already satisfied: pyparsing!=2.0.4,!=2.1.2,!=2.1.6,>=2.0.1 in /usr/local/lib/python3.7/dist-packages (from matplotlib->stemgraphic) (3.0.9)\n",
            "Requirement already satisfied: numpy>=1.11 in /usr/local/lib/python3.7/dist-packages (from matplotlib->stemgraphic) (1.21.6)\n",
            "Requirement already satisfied: cycler>=0.10 in /usr/local/lib/python3.7/dist-packages (from matplotlib->stemgraphic) (0.11.0)\n",
            "Requirement already satisfied: kiwisolver>=1.0.1 in /usr/local/lib/python3.7/dist-packages (from matplotlib->stemgraphic) (1.4.4)\n",
            "Requirement already satisfied: typing-extensions in /usr/local/lib/python3.7/dist-packages (from kiwisolver>=1.0.1->matplotlib->stemgraphic) (4.1.1)\n",
            "Requirement already satisfied: six>=1.5 in /usr/local/lib/python3.7/dist-packages (from python-dateutil>=2.1->matplotlib->stemgraphic) (1.15.0)\n",
            "Requirement already satisfied: pytz>=2017.3 in /usr/local/lib/python3.7/dist-packages (from pandas->stemgraphic) (2022.5)\n",
            "Requirement already satisfied: scipy>=1.0 in /usr/local/lib/python3.7/dist-packages (from seaborn->stemgraphic) (1.7.3)\n",
            "Building wheels for collected packages: docopt\n",
            "  Building wheel for docopt (setup.py) ... \u001b[?25l\u001b[?25hdone\n",
            "  Created wheel for docopt: filename=docopt-0.6.2-py2.py3-none-any.whl size=13723 sha256=b9470f5f6128e99654018273647d92237b4629dfdfea9721df445ecfca5635f7\n",
            "  Stored in directory: /root/.cache/pip/wheels/72/b0/3f/1d95f96ff986c7dfffe46ce2be4062f38ebd04b506c77c81b9\n",
            "Successfully built docopt\n",
            "Installing collected packages: docopt, stemgraphic\n",
            "Successfully installed docopt-0.6.2 stemgraphic-0.9.1\n"
          ]
        }
      ]
    },
    {
      "cell_type": "code",
      "execution_count": null,
      "metadata": {
        "colab": {
          "base_uri": "https://localhost:8080/",
          "height": 186
        },
        "id": "8S-a92T58db4",
        "outputId": "24c6e1c1-2d7b-46b4-9009-49062392b337"
      },
      "outputs": [
        {
          "output_type": "execute_result",
          "data": {
            "text/plain": [
              "(<Figure size 540x126 with 1 Axes>,\n",
              " <matplotlib.axes._axes.Axes at 0x7fa8f6854a50>)"
            ]
          },
          "metadata": {},
          "execution_count": 4
        },
        {
          "output_type": "display_data",
          "data": {
            "text/plain": [
              "<Figure size 540x126 with 1 Axes>"
            ],
            "image/png": "[encoded data removed]"
          },
          "metadata": {
            "needs_background": "light"
          }
        }
      ],
      "source": [
        "# Q1)\n",
        "import stemgraphic\n",
        "  \n",
        "x =[19, 19, 19, 20, 21, 21, 25, 25, 25, 26, 26, 28, 29, 31, 31, 32, 32, 33, 34, 35, 36,37, 37, 38, 38, 38, 38, 41, 43, 43 ]\n",
        "stemgraphic.stem_graphic(x, scale=10)\n"
      ]
    },
    {
      "cell_type": "code",
      "source": [
        "# Q12) 1.\n",
        "import stemgraphic\n",
        "x=[77, 78, 76, 81, 86, 51, 79, 82, 84, 99]\n",
        "stemgraphic.stem_graphic(x, scale=10)\n"
      ],
      "metadata": {
        "colab": {
          "base_uri": "https://localhost:8080/",
          "height": 196
        },
        "id": "57QfMhMw9ilJ",
        "outputId": "49d6d86d-3205-4e84-f3c2-fe1b4065c4d8"
      },
      "execution_count": null,
      "outputs": [
        {
          "output_type": "execute_result",
          "data": {
            "text/plain": [
              "(<Figure size 540x144 with 1 Axes>,\n",
              " <matplotlib.axes._axes.Axes at 0x7fa8f6242210>)"
            ]
          },
          "metadata": {},
          "execution_count": 5
        },
        {
          "output_type": "display_data",
          "data": {
            "text/plain": [
              "<Figure size 540x144 with 1 Axes>"
            ],
            "image/png": "[encoded data removed]"
          },
          "metadata": {
            "needs_background": "light"
          }
        }
      ]
    },
    {
      "cell_type": "markdown",
      "source": [
        "Q12) 2. A potential outlier is a data point that is significantly different from the other data points. Here the Outlier is 51. Since it does not fit in the pattern of the graph and the rest of the data.\n"
      ],
      "metadata": {
        "id": "DHXbyrj5IhC6"
      }
    },
    {
      "cell_type": "code",
      "source": [
        "#Q49) \n",
        "import matplotlib.pyplot as m\n",
        "x=[0,0,0,0,0,1,1,1,1,1,1,1,1,1,2,2,2,2,2,2,3,3,3,3,4]\n",
        "m.boxplot(x)\n",
        "m.show()\n"
      ],
      "metadata": {
        "colab": {
          "base_uri": "https://localhost:8080/",
          "height": 265
        },
        "id": "gcymXtAMMH9f",
        "outputId": "b8ff7891-68d2-46b3-a468-86c7a5516e26"
      },
      "execution_count": 1,
      "outputs": [
        {
          "output_type": "display_data",
          "data": {
            "text/plain": [
              "<Figure size 432x288 with 1 Axes>"
            ],
            "image/png": "[encoded data removed]"
          },
          "metadata": {
            "needs_background": "light"
          }
        }
      ]
    },
    {
      "cell_type": "code",
      "source": [
        "#Q61)\n",
        "import numpy as np\n",
        "x=np.array([7,14,14,14,15,18,19,19,19,19,20,20,20,22,23,26,40,40,42,42])\n",
        "q1=np.median(x[:10])\n",
        "q3=np.median(x[10:])\n",
        "\n",
        "print(\"First Quartile : \",q1)\n",
        "print(\"Third Quartile : \",q3)\n",
        "iqr = q3 - q1\n",
        "print(\"Inter Quartile Range : \",iqr)"
      ],
      "metadata": {
        "colab": {
          "base_uri": "https://localhost:8080/"
        },
        "id": "Nvnutg-hMZur",
        "outputId": "0ab8e0df-a4de-43c7-8ba9-a308efd5bb8a"
      },
      "execution_count": null,
      "outputs": [
        {
          "output_type": "stream",
          "name": "stdout",
          "text": [
            "First Quartile :  16.5\n",
            "Third Quartile :  24.5\n",
            "Inter Quartile Range :  8.0\n"
          ]
        }
      ]
    },
    {
      "cell_type": "code",
      "source": [
        "#Q62)\n",
        "from scipy import stats as st\n",
        "import numpy as np\n",
        "m=np.array([7,14,14,14,15,18,19,19,19,19,20,20,20,22,23,26,40,40,42,42])\n",
        "x=st.mode(m)\n",
        "print(\"Mode of the given array : \",x)"
      ],
      "metadata": {
        "colab": {
          "base_uri": "https://localhost:8080/"
        },
        "id": "l8d0FCJ3Nc1M",
        "outputId": "826b9a08-0420-45d5-bc6c-c333858cc25d"
      },
      "execution_count": null,
      "outputs": [
        {
          "output_type": "stream",
          "name": "stdout",
          "text": [
            "Mode of the given array :  ModeResult(mode=array([19]), count=array([4]))\n"
          ]
        }
      ]
    },
    {
      "cell_type": "markdown",
      "source": [
        "Q63)\n",
        "\n",
        "This dataset have the Entire Population."
      ],
      "metadata": {
        "id": "u1x2aH0jbBmL"
      }
    }
  ]
}